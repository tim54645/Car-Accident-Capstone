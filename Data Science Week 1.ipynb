{
 "cells": [
  {
   "cell_type": "markdown",
   "metadata": {},
   "source": [
    "# Introduction/ Business Problem"
   ]
  },
  {
   "cell_type": "markdown",
   "metadata": {},
   "source": [
    "​Car accidents are a major problem in the United States, causing injury, property damage, and even fatalities. Often, there are factors that may lead to a higher risk being involved in an accident. By using a data set with car accident data we will try to predict the severity of a car accident given the weather, location, visibility and road conditions. By utilizing this data our goal is to reduce the frequency and/or severity of car collusions by knowing the risk factors. This analysis will also inform drivers when they may be at higher risk while driving or even choose an alternative route or time for their travel. It could also potentially help the police, government or car insurance providers to gain a deeper understanding of what the risk factors are.\n"
   ]
  },
  {
   "cell_type": "markdown",
   "metadata": {},
   "source": [
    "## Data / Methodology "
   ]
  },
  {
   "cell_type": "markdown",
   "metadata": {},
   "source": [
    "The  dataset we will be using is for all road collisions (since 2004 to present) in Seattle. The dataset consists of 37 independent fields and 194673 records, which includes both numerical and categorical data. The dependent field or label for the data set is SEVERITYCODE, which describes the fatality of an accident. The values under this label are categorised into fatality (3), serious injury (2b), inury (2), prop damage (1) and unknown (0). I will be using various factors such as location of the accident, junction type, weather, road condition, light condition, and speeding to determine the severity of the accident and what model will be most accurate. "
   ]
  },
  {
   "cell_type": "code",
   "execution_count": null,
   "metadata": {},
   "outputs": [],
   "source": []
  }
 ],
 "metadata": {
  "kernelspec": {
   "display_name": "Python 3",
   "language": "python",
   "name": "python3"
  },
  "language_info": {
   "codemirror_mode": {
    "name": "ipython",
    "version": 3
   },
   "file_extension": ".py",
   "mimetype": "text/x-python",
   "name": "python",
   "nbconvert_exporter": "python",
   "pygments_lexer": "ipython3",
   "version": "3.7.6"
  }
 },
 "nbformat": 4,
 "nbformat_minor": 4
}
